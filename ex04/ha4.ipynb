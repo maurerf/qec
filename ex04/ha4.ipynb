{
 "cells": [
  {
   "cell_type": "code",
   "execution_count": 14,
   "metadata": {},
   "outputs": [],
   "source": [
    "from qiskit import QuantumCircuit\n",
    "from qiskit.visualization import plot_histogram\n",
    "from qiskit_aer import AerSimulator\n",
    "shots = 10_000"
   ]
  },
  {
   "cell_type": "markdown",
   "metadata": {},
   "source": [
    "# Exercise a)"
   ]
  },
  {
   "cell_type": "code",
   "execution_count": 85,
   "metadata": {},
   "outputs": [
    {
     "data": {
      "text/html": [
       "<pre style=\"word-wrap: normal;white-space: pre;background: #fff0;line-height: 1.1;font-family: &quot;Courier New&quot;,Courier,monospace\">     ┌───┐                              statevector \n",
       "q_0: ┤ H ├──■─────────■──────────────■───────░──────\n",
       "     ├───┤  │         │              │       ░      \n",
       "q_1: ┤ H ├──┼────■────■────■─────────┼───────░──────\n",
       "     ├───┤  │    │         │         │       ░      \n",
       "q_2: ┤ H ├──┼────┼────■────■───■─────┼───────░──────\n",
       "     ├───┤  │    │    │        │     │       ░      \n",
       "q_3: ┤ H ├──┼────┼────┼────■───■──■──┼───────░──────\n",
       "     └───┘┌─┴─┐┌─┴─┐┌─┴─┐┌─┴─┐    │  │       ░      \n",
       "q_4: ─────┤ X ├┤ X ├┤ X ├┤ X ├────■──■───────░──────\n",
       "          └───┘└───┘└───┘└───┘               ░      </pre>"
      ],
      "text/plain": [
       "     ┌───┐                              statevector \n",
       "q_0: ┤ H ├──■─────────■──────────────■───────░──────\n",
       "     ├───┤  │         │              │       ░      \n",
       "q_1: ┤ H ├──┼────■────■────■─────────┼───────░──────\n",
       "     ├───┤  │    │         │         │       ░      \n",
       "q_2: ┤ H ├──┼────┼────■────■───■─────┼───────░──────\n",
       "     ├───┤  │    │    │        │     │       ░      \n",
       "q_3: ┤ H ├──┼────┼────┼────■───■──■──┼───────░──────\n",
       "     └───┘┌─┴─┐┌─┴─┐┌─┴─┐┌─┴─┐    │  │       ░      \n",
       "q_4: ─────┤ X ├┤ X ├┤ X ├┤ X ├────■──■───────░──────\n",
       "          └───┘└───┘└───┘└───┘               ░      "
      ]
     },
     "execution_count": 85,
     "metadata": {},
     "output_type": "execute_result"
    }
   ],
   "source": [
    "qc = QuantumCircuit(5)\n",
    "qc.h([0,1,2,3])\n",
    "qc.cx([0,1,2,3],[4,4,4,4])\n",
    "qc.cz([0,1,2,3,4],[1,2,3,4,0])\n",
    "qc.save_statevector()\n",
    "qc.draw()         "
   ]
  },
  {
   "cell_type": "code",
   "execution_count": 86,
   "metadata": {},
   "outputs": [
    {
     "data": {
      "text/latex": [
       "$$\\frac{1}{4} |00000\\rangle- \\frac{1}{4} |00011\\rangle+\\frac{1}{4} |00101\\rangle- \\frac{1}{4} |00110\\rangle+\\frac{1}{4} |01001\\rangle+\\frac{1}{4} |01010\\rangle + \\ldots - \\frac{1}{4} |10111\\rangle- \\frac{1}{4} |11000\\rangle- \\frac{1}{4} |11011\\rangle- \\frac{1}{4} |11101\\rangle- \\frac{1}{4} |11110\\rangle$$"
      ],
      "text/plain": [
       "<IPython.core.display.Latex object>"
      ]
     },
     "execution_count": 86,
     "metadata": {},
     "output_type": "execute_result"
    }
   ],
   "source": [
    "statevector = AerSimulator(method=\"statevector\", shots=shots).run(qc).result().get_statevector()\n",
    "statevector.draw(output='latex')\n"
   ]
  },
  {
   "cell_type": "markdown",
   "metadata": {},
   "source": [
    "# Exercise b)"
   ]
  },
  {
   "cell_type": "code",
   "execution_count": 87,
   "metadata": {},
   "outputs": [
    {
     "data": {
      "text/latex": [
       "$$\\frac{1}{4} |00001\\rangle+\\frac{1}{4} |00010\\rangle+\\frac{1}{4} |00100\\rangle+\\frac{1}{4} |00111\\rangle+\\frac{1}{4} |01000\\rangle- \\frac{1}{4} |01011\\rangle + \\ldots - \\frac{1}{4} |10110\\rangle+\\frac{1}{4} |11001\\rangle- \\frac{1}{4} |11010\\rangle+\\frac{1}{4} |11100\\rangle- \\frac{1}{4} |11111\\rangle$$"
      ],
      "text/plain": [
       "<IPython.core.display.Latex object>"
      ]
     },
     "execution_count": 87,
     "metadata": {},
     "output_type": "execute_result"
    }
   ],
   "source": [
    "qc = QuantumCircuit(5)\n",
    "qc.x(4)\n",
    "qc.h([0,1,2,3])\n",
    "qc.cx([0,1,2,3],[4,4,4,4])\n",
    "qc.cz([0,1,2,3,4],[1,2,3,4,0])\n",
    "qc.save_statevector()\n",
    "qc.draw()       \n",
    "statevector = AerSimulator(method=\"statevector\", shots=shots).run(qc).result().get_statevector()\n",
    "statevector.draw(output='latex')  "
   ]
  },
  {
   "cell_type": "code",
   "execution_count": 88,
   "metadata": {},
   "outputs": [
    {
     "data": {
      "text/latex": [
       "$$- \\frac{1}{4} |00001\\rangle- \\frac{1}{4} |00010\\rangle- \\frac{1}{4} |00100\\rangle- \\frac{1}{4} |00111\\rangle- \\frac{1}{4} |01000\\rangle+\\frac{1}{4} |01011\\rangle + \\ldots +\\frac{1}{4} |10110\\rangle- \\frac{1}{4} |11001\\rangle+\\frac{1}{4} |11010\\rangle- \\frac{1}{4} |11100\\rangle+\\frac{1}{4} |11111\\rangle$$"
      ],
      "text/plain": [
       "<IPython.core.display.Latex object>"
      ]
     },
     "execution_count": 88,
     "metadata": {},
     "output_type": "execute_result"
    }
   ],
   "source": [
    "qc = QuantumCircuit(5)\n",
    "qc.h([0,1,2,3])\n",
    "qc.cx([0,1,2,3],[4,4,4,4])\n",
    "qc.cz([0,1,2,3,4],[1,2,3,4,0])\n",
    "qc.x([0,1,2,3,4])\n",
    "qc.save_statevector()\n",
    "qc.draw()       \n",
    "statevector = AerSimulator(method=\"statevector\", shots=shots).run(qc).result().get_statevector()\n",
    "statevector.draw(output='latex') "
   ]
  },
  {
   "cell_type": "markdown",
   "metadata": {},
   "source": [
    "same up to global phase"
   ]
  },
  {
   "cell_type": "markdown",
   "metadata": {},
   "source": [
    "# Exercise c)"
   ]
  },
  {
   "cell_type": "code",
   "execution_count": 97,
   "metadata": {},
   "outputs": [
    {
     "data": {
      "image/png": "[encoded data removed]",
      "text/plain": [
       "<Figure size 700x500 with 1 Axes>"
      ]
     },
     "execution_count": 97,
     "metadata": {},
     "output_type": "execute_result"
    }
   ],
   "source": [
    "def gen5qubit_with_error(loc, error):\n",
    "    qc = QuantumCircuit(9,4)\n",
    "    qc.h([0,1,2,3])\n",
    "    qc.cx([0,1,2,3],[4,4,4,4])\n",
    "    qc.cz([0,1,2,3,4],[1,2,3,4,0])\n",
    "    qc.h([5,6,7,8])\n",
    "    # error here\n",
    "    if error == \"x\":\n",
    "        qc.x(loc)\n",
    "    elif error == \"y\":\n",
    "        qc.y(loc)\n",
    "    elif error == \"z\":\n",
    "        qc.z(loc)\n",
    "    qc.barrier()\n",
    "    # s1\n",
    "    qc.cx([5,5],[0,3])\n",
    "    qc.cz([5,5],[1,2])\n",
    "    # s2\n",
    "    qc.cx([6,6],[1,4])\n",
    "    qc.cz([6,6],[2,3])\n",
    "    # s3\n",
    "    qc.cx([7,7],[0,2])\n",
    "    qc.cz([7,7],[3,4])\n",
    "    # s4\n",
    "    qc.cx([8,8],[1,3])\n",
    "    qc.cz([8,8],[0,4])\n",
    "\n",
    "    qc.barrier()\n",
    "    qc.h([5,6,7,8])\n",
    "\n",
    "    qc.measure([5,6,7,8],[0,1,2,3])\n",
    "    return qc\n",
    "\n",
    "\n",
    "qc = gen5qubit_with_error(3, 'x')\n",
    "\n",
    "# qc.draw(output='mpl')       \n",
    "\n",
    "result = AerSimulator(method=\"statevector\", shots=shots).run(qc).result().get_counts(qc)\n",
    "plot_histogram(result)\n",
    "# statevector.draw(output='latex') "
   ]
  },
  {
   "cell_type": "markdown",
   "metadata": {},
   "source": [
    "# Exercise d)"
   ]
  },
  {
   "cell_type": "code",
   "execution_count": 99,
   "metadata": {},
   "outputs": [
    {
     "name": "stdout",
     "output_type": "stream",
     "text": [
      "{('x', 0): '1000', ('y', 0): '1101', ('z', 0): '0101', ('x', 1): '0001', ('y', 1): '1011', ('z', 1): '1010', ('x', 2): '0011', ('y', 2): '0111', ('z', 2): '0100', ('x', 3): '0110', ('y', 3): '1111', ('z', 3): '1001', ('x', 4): '1100', ('y', 4): '1110', ('z', 4): '0010'}\n"
     ]
    }
   ],
   "source": [
    "syndromes = {}\n",
    "for i in range(5):\n",
    "    for p in ['x','y','z']:\n",
    "        qc = gen5qubit_with_error(i, p)\n",
    "        result = AerSimulator(method=\"statevector\", shots=shots).run(qc).result().get_counts(qc)\n",
    "        for item in result.items():\n",
    "            syndromes[(p,i)] = item[0]\n",
    "            \n",
    "print(syndromes)\n",
    "            "
   ]
  },
  {
   "cell_type": "markdown",
   "metadata": {},
   "source": [
    "From this dictionary we see that e.g. Z on qubit 0 leads to the syndrome 0101, so Stabilizers $S_2$ and $S_4$ are violated.\n",
    "\n",
    "The Syndromes are all unique.\n",
    "The trivial error has the trivial Syndrome 0000.\n",
    "\n",
    "The five qubit code is called the perfect code due to its near optimal encoding rate and distance."
   ]
  },
  {
   "cell_type": "markdown",
   "metadata": {},
   "source": [
    "# Exercise e)"
   ]
  },
  {
   "cell_type": "code",
   "execution_count": null,
   "metadata": {},
   "outputs": [],
   "source": []
  }
 ],
 "metadata": {
  "kernelspec": {
   "display_name": "qecvenv",
   "language": "python",
   "name": "python3"
  },
  "language_info": {
   "codemirror_mode": {
    "name": "ipython",
    "version": 3
   },
   "file_extension": ".py",
   "mimetype": "text/x-python",
   "name": "python",
   "nbconvert_exporter": "python",
   "pygments_lexer": "ipython3",
   "version": "3.12.3"
  }
 },
 "nbformat": 4,
 "nbformat_minor": 2
}
